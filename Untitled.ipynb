{
 "cells": [
  {
   "cell_type": "code",
   "execution_count": 1,
   "id": "c9610026",
   "metadata": {},
   "outputs": [],
   "source": [
    "def check_symbol(stock_symbol):\n",
    "    allstock={'PANAMAPET', 'GLOBOFFS', 'UTISXN50', 'HAVELLS', 'ALICON', 'GSPL', 'CAPLIPOINT', 'WELCORP', 'TNTELE', 'DCMNVL', 'RAMASTEEL', 'BEPL', 'LICHSGFIN', 'RADICO', 'KITEX', 'LICNETFSEN', 'TARACHAND', 'NH', 'BFINVEST', 'MANINDS', 'AYMSYNTEX', 'KAPSTON', 'GENESYS', 'RNAM', 'BPCL', 'PODDARHOUS', 'ONWARDTEC', 'DBREALTY', 'VIVIDHA', 'CENTEXT', 'ARROWTEX', 'NELCO', 'ICICINIFTY', 'BHAGYANGR', 'SURANI', 'IIFL', 'MAHSEAMLES', 'IOLCP', 'MAHESHWARI', 'BOROSIL', 'BYKE', 'RELIGARE', 'MILTON', 'DALMIASUG', 'CLEDUCATE', 'HINDALCO', 'UNITECH', 'ARIHANTSUP', 'AHLUCONT', 'RKEC', 'BHEL', 'HESTERBIO', 'JPINFRATEC', 'RSWM', 'TFL', 'RITES', 'CUBEXTUB', 'UBL', 'FCL', 'DNAMEDIA', 'ADANIENT', 'MAHLIFE', 'REPRO', 'RIIL', 'NIBL', 'TIRUPATIFL', 'ADVENZYMES', 'SUNDRMFAST', 'HINDCOMPOS', 'VARDMNPOLY', 'PRECAM', 'ATLASCYCLE', 'ICICI500', 'EMAMIPAP', 'BALPHARMA', 'RGL', 'UTTAMSUGAR', 'KRISHANA', 'PRIMESECU', 'BRNL', 'POLYCAB', 'RELCAPITAL', 'RUCHI', 'WORTH', 'BVCL', 'INDIACEM', 'AIROLAM', 'SIRCA', 'VISASTEEL', 'KAJARIACER', 'NKIND', 'AXISCADES', 'JIYAECO', 'MIDHANI', 'NAGREEKEXP', 'GRINDWELL', 'TANTIACONS', 'JPPOWER', 'SILVERTUC', 'SBILIFE', 'GRANULES', 'VMART', 'IRB', 'MELSTAR', 'RELINFRA', 'SIMBHALS', 'ACCELYA', 'KOPRAN', 'BLUESTARCO', 'CELEBRITY', 'IDFNIFTYET', 'ELECTCAST', 'KSB', 'ESABINDIA', 'BHARATRAS', 'BRFL', 'ANUP', 'WESTLIFE', 'JINDWORLD', 'ROLLT', 'CINELINE', 'INDOCO', 'OAL', 'PSPPROJECT', 'PUNJABCHEM', 'ZODIACLOTH', 'WATERBASE', 'MINDAIND', 'BIRLACORPN', 'DMART', 'LAMBODHARA', 'STAMPEDE', 'ELGIRUBCO', 'KAMDHENU', 'PHILIPCARB', 'GTNIND', 'SARVESHWAR', 'IOB', 'AHLWEST', 'HBLPOWER', 'SUNDARAM', 'NIITTECH', 'VIDHIING', 'LUMAXIND', 'BAJAJELEC', 'NEOGEN', 'POLYMED', 'KHANDSE', 'PNC', 'PGEL', 'PSUBNKBEES', 'SICAL', 'MGL', 'LINDEINDIA', 'WSI', 'GABRIEL', 'SOLARA', 'INDUSINDBK', 'ATUL', 'MANGALAM', 'JAINSTUDIO', 'EQ30', 'JSWSTEEL', 'BLKASHYAP', 'AUTOIND', 'SELMCL', 'BASML', 'EXIDEIND', 'E2E', 'HINDPETRO', 'AARVEEDEN', 'ALMONDZ', 'INVENTURE', 'PANACEABIO', 'EUROMULTI', 'PILITA', 'MRF', 'SHIVAMAUTO', 'INNOVATIVE', 'RTNPOWER', 'MAHAPEXLTD', 'MUNJALAU', 'TATAELXSI', 'IGARASHI', 'DHFL', 'BIL', 'GSKCONS', 'GKWLIMITED', 'BCP', 'NECLIFE', 'BHAGYAPROP', 'CESCVENT', 'SCHAND', 'GAYAHWS', 'VISHNU', 'PREMIERPOL', 'NBVENTURES', 'HATSUN', 'JAYNECOIND', 'RPPL', 'ENDURANCE', 'ECLERX', 'KRITIKA', 'SITINET', 'HERITGFOOD', 'PETRONET', 'MHHL', 'VERTOZ', 'INGERRAND', 'MARATHON', 'BDL', 'GFSTEELS', 'PIDILITIND', 'ICICIM150', 'DEVIT', 'EVEREADY', 'JINDALPOLY', 'GEEKAYWIRE', 'VAISHALI', 'SETUINFRA', 'ORIENTBELL', 'JINDALSAW', 'RMCL', 'MOIL', 'JSLHISAR', 'ICICILOVOL', 'DEEPIND', 'TATACHEM', 'PSB', 'MMP', 'ALLCARGO', 'ACC', 'SUPERHOUSE', 'OMMETALS', 'CHALET', 'RKFORGE', 'BHANDARI', 'PDSMFL', 'ZEEL', 'SMLISUZU', 'GRAVITA', 'NEXTMEDIA', 'PITTIENG', 'KOTAKPSUBK', 'BILENERGY', 'CAPTRUST', 'GAL', 'GALLISPAT', 'IBVENTURES', 'JMTAUTOLTD', 'MERCATOR', 'XELPMOC', 'GAEL', 'GPIL', 'KKCL', 'RUCHIRA', 'RUCHINFRA', 'RAJSREESUG', 'HARRMALAYA', 'BLISSGVS', 'CENTRALBK', 'CORDSCABLE', 'NDL', 'ZEELEARN', 'GATI', 'OSIAHYPER', 'AUTOAXLES', 'VAKRANGEE', 'J&KBANK', 'IRCON', 'SANOFI', 'PGHL', 'WABCOINDIA', 'BLUEDART', 'DREDGECORP', 'UTINEXT50', 'ARCHIES', 'SETF10GILT', 'IDFCFIRSTB', 'INTENTECH', 'MARICO', 'GALLANTT', 'UNITEDTEA', 'PRESTIGE', 'ALOKTEXT', 'INOXWIND', 'LGBBROSLTD', 'NCLIND', 'GODHA', 'HDFCMFGETF', 'FORCEMOT', 'LINCOLN', 'JUBLFOOD', 'PRINCEPIPE', 'WELENT', 'GROBTEA', 'TIIL', 'MOTHERSUMI', 'KSK', 'M&MFIN', 'CHEMBOND', 'ISEC', 'RADIOCITY', 'DOLLAR', 'LTI', 'DIGISPICE', 'KREBSBIO', 'TCIEXP', 'NOCIL', 'TIINDIA', 'KAVVERITEL', 'SHOPERSTOP', 'NDTV', 'GFLLIMITED', 'WOCKPHARMA', 'GOKEX', 'BAJAJHLDNG', 'NAHARINDUS', 'VIKASPROP', 'HONAUT', 'WELINV', 'LAGNAM', 'SPTL', 'NEULANDLAB', 'PRADIP', 'CREST', 'NFL', 'WFL', 'GODREJCP', 'COLPAL', 'HIRECT', 'TCI', 'RAJVIR', 'GULFOILLUB', 'SOUTHBANK', 'THYROCARE', 'BBL', 'BALAMINES', 'HDIL', 'PREMEXPLN', 'SPYL', 'JAYBARMARU', 'SHRIRAMCIT', 'AMARAJABAT', 'TATAMTRDVR', 'ALKEM', 'BIRLACABLE', 'SUMICHEM', 'CIPLA', 'MAHABANK', 'HEG', 'IDBIGOLD', 'TMRVL', 'ELECON', 'IPCALAB', 'BURNPUR', 'DLF', 'DVL', 'ICICISENSX', 'TOKYOPLAST', 'APOLLOHOSP', 'CKPLEISURE', 'HINDUNILVR', 'SESHAPAPER', 'PVR', 'INFRABEES', 'PKTEA', 'TIMESGTY', 'VCL', 'GTL', 'FSL', 'UNIENTER', 'MAGADSUGAR', 'SERVOTECH', 'UTINIFTETF', 'UCALFUEL', 'JIKIND', 'IIFLWAM', 'ZICOM', 'SUPREMEINF', 'MBAPL', 'FCSSOFT', 'HLVLTD', 'SCAPDVR', 'BHARATWIRE', 'ANSALAPI', 'TATACOFFEE', 'LUMAXTECH', 'MANGLMCEM', 'AAKASH', 'MASKINVEST', 'MAWANASUG', 'GODREJAGRO', 'UGARSUGAR', 'MARKSANS', 'KARURVYSYA', 'MIRZAINT', 'SEYAIND', 'SUNCLAYLTD', 'SCHNEIDER', 'CELESTIAL', 'JCHAC', 'HNDFDS', 'ACCORD', 'AARON', 'PATELENG', 'ANDHRSUGAR', 'DCI', 'VIPULLTD', 'SHK', 'AVADHSUGAR', 'APEX', 'KAUSHALYA', 'BLUECHIP', 'NARMADA', 'JYOTHYLAB', 'TI', 'RCF', 'NBIFIN', 'ESSELPACK', 'TATASTLBSL', 'DCMSHRIRAM', 'ASTRON', 'GSFC', 'VENKEYS', 'SRTRANSFIN', 'EASTSILK', 'SHRIRAMEPC', 'CEATLTD', 'VIKASMCORP', 'ULTRACEMCO', 'SONATSOFTW', 'STRTECH', 'NATCOPHARM', 'THEMISMED', 'NTL', 'JBMA', 'KOTAKGOLD', 'SONAMCLOCK', 'VEDL', 'ENERGYDEV', 'OLECTRA', 'DISHTV', 'KEYFINSERV', 'EMMBI', 'MINDPOOL', 'OPTIEMUS', 'EVERESTIND', 'IFBAGRO', 'ROSSELLIND', 'ONEPOINT', 'KARDA', 'ASTERDM', 'FLEXITUFF', 'GOLDENTOBC', 'BLUECOAST', 'ATFL', 'ICICIBANK', 'TIMETECHNO', 'TALWGYM', 'SAKSOFT', 'ERIS', 'NCC', 'TITAN', 'GUJGASLTD', 'XCHANGING', 'SETFNIF50', 'BANG', 'KWALITY', 'AKSHOPTFBR', 'GANGESSECU', 'INDRAMEDCO', 'NESTLEIND', 'PARAGMILK', 'TCIFINANCE', 'SWANENERGY', 'ZENITHEXPO', 'MPHASIS', 'AGARIND', 'ADANIGAS', 'KAKATCEM', 'GOLDTECH', 'GRSE', 'UVSL', 'SHALBY', 'CARERATING', 'CSBBANK', 'TRIDENT', 'ORIENTABRA', 'ARVSMART', 'NIFTYBEES', 'MRPL', 'HAL', 'DEEPAKNTR', 'ADANIPORTS', 'FEL', 'MARUTI', 'KHFM', 'APLLTD', 'CENTRUM', 'CINEVISTA', 'ZENITHBIR', 'RANEENGINE', 'EON', 'EMAMIREAL', 'JUMPNET', 'SRHHYPOLTD', 'MPSLTD', 'MANAKALUCO', 'PPL', 'ANDHRABANK', 'ORTINLABSS', 'CROMPTON', 'AMBIKCO', 'SOFTTECH', 'COALINDIA', 'SETFNIFBK', 'SPECIALITY', 'QGOLDHALF', 'HIKAL', 'JETFREIGHT', 'BEARDSELL', 'JPASSOCIAT', 'ORISSAMINE', 'NANDANI', 'PARABDRUGS', 'HDFCSENETF', 'AJOONI', 'PRAXIS', 'TIJARIA', 'INSPIRISYS', 'TCNSBRANDS', 'CHOLAHLDNG', 'JAYSREETEA', 'ALEMBICLTD', 'LYPSAGEMS', 'TECHNOFAB', 'ADANIPOWER', 'GHCL', 'TAJGVK', 'BAGFILMS', '20MICRONS', 'KINGFA', 'TVSELECT', 'GLAXO', 'ASAHIINDIA', 'PGHH', 'SUNDARMHLD', 'APOLLOPIPE', 'ICICIBANKN', 'DCM', 'AARVI', 'CYIENT', 'POWERGRID', 'LUPIN', 'SINTERCOM', 'SOTL', 'CRISIL', 'CONTI', 'PATINTLOG', 'UPL', 'TNPL', 'TATAINVEST', 'HAVISHA', 'SABTN', 'TIL', 'WEIZFOREX', 'FOCUS', 'AUSOMENT', 'NMDC', 'NPBET', 'ANDPAPER', 'NAHARPOLY', 'SYMPHONY', 'HSIL', 'JALAN', 'ALPHAGEO', 'EXCELINDUS', 'LFIC', 'NEWGEN', 'SURANAT&P', 'SETCO', 'KCPSUGIND', 'MAXVIL', 'NORBTEAEXP', 'ROHITFERRO', 'INEOSSTYRO', 'CHENNPETRO', 'GARFIBRES', 'LINCPEN', 'MAGMA', 'BODALCHEM', 'DELTAMAGNT', 'TFCILTD', 'HSCL', 'MADHAV', 'HGS', 'LYKALABS', 'VISAKAIND', 'GOLDIAM', 'RATNAMANI', 'MARALOVER', 'RVNL', 'SAKUMA', 'FDC', 'XPROINDIA', 'DEEPAKFERT', 'LAOPALA', 'SKIPPER', 'VESUVIUS', 'ARMANFIN', 'GEPIL', 'SIEMENS', 'SHREERAMA', 'SHANTIGEAR', 'KRBL', 'KMSUGAR', 'MADRASFERT', 'CENTURYPLY', 'BSLGOLDETF', 'JAGRAN', 'REGENCERAM', 'SAKHTISUG', 'SPICEJET', 'ANTGRAPHIC', 'IGPL', 'JKLAKSHMI', 'BANKINDIA', 'OSWALAGRO', 'PNBGILTS', 'HUBTOWN', 'VISHWARAJ', 'LICNETFGSC', 'ZOTA', 'VSSL', 'SUPREMEIND', 'JSWENERGY', 'MAHASTEEL', 'INFRATEL', 'VICEROY', 'INDNIPPON', 'ATLANTA', 'SPANDANA', 'MANAKSIA', 'KOTAKBKETF', 'IZMO', 'SARLAPOLY', 'BETA', 'SKMEGGPROD', 'NAM-INDIA', 'KANSAINER', 'AUTOLITIND', 'SOMANYCERA', 'JMA', 'SEAMECLTD', 'REPL', 'BLS', 'SASKEN', 'ICICIMCAP', 'REPCOHOME', 'ICICIB22', 'TATASTLLP', 'OFSS', 'JINDRILL', 'SURYAROSNI', 'VOLTAS', 'PRITI', 'ZUARIGLOB', 'SANDESH', 'CREDITACC', 'LPDC', 'GET&D', 'FINEORG', 'AUROPHARMA', 'JKPAPER', 'HUDCO', 'HINDCOPPER', 'UJJIVANSFB', 'LOVABLE', 'ESCORTS', 'TARAPUR', 'ASTRAL', 'PODDARMENT', 'EBBETF0423', 'KNRCON', 'DIXON', 'ORIENTELEC', 'DCMFINSERV', 'NIPPOBATRY', 'LSIL', 'INDOTHAI', 'SECL', 'REMSONSIND', 'HPL', 'BAJFINANCE', 'EQUITAS', 'OBEROIRLTY', 'MCX', 'GOODLUCK', 'INSECTICID', 'SUBEX', 'CIMMCO', 'GANESHHOUC', 'WENDT', 'EXPLEOSOL', 'NILAINFRA', 'STERTOOLS', 'RAMANEWS', 'IGL', 'KARMAENG', 'IBULHSGFIN', 'SAMBHAAV', 'CPSEETF', 'SHYAMTEL', 'SJVN', 'INDOSTAR', 'AEGISCHEM', 'CMMIPL', 'TINPLATE', 'DRREDDY', 'MTNL', 'SECURCRED', 'CREATIVE', 'LIQUIDETF', 'FLUOROCHEM', 'VRLLOG', 'MAYURUNIQ', 'NETFCONSUM', 'PNBHOUSING', 'EDELWEISS', 'SHAHALLOYS', 'TORNTPOWER', 'DHARSUGAR', 'DHAMPURSUG', 'ASCOM', 'CIGNITITEC', 'FSC', 'ICICILIQ', 'VASA', 'GREENPLY', 'SAIL', 'AAVAS', 'V2RETAIL', 'MCL', 'SATIA', 'GODFRYPHLP', 'PNB', 'ICICINF100', 'BGLOBAL', 'KEI', 'KSL', 'WANBURY', 'LASA', 'RMDRIP', 'RHFL', 'ICEMAKE', 'MOTOGENFIN', 'TALBROAUTO', 'SHIVAUM', 'CEBBCO', 'BALRAMCHIN', 'HIMATSEIDE', '63MOONS', 'MATRIMONY', 'NECCLTD', 'GMRINFRA', 'STCINDIA', 'BANSWRAS', 'BGRENERGY', 'FOURTHDIM', 'JKIL', 'TRITURBINE', 'VENUSREM', 'HERCULES', 'DPWIRES', 'VIKASWSP', 'HATHWAY', 'HCC', 'DBL', 'KIOCL', 'TVSSRICHAK', 'AMJUMBO', 'SIGIND', 'SWELECTES', 'JBFIND', 'NELCAST', 'ANSALHSG', 'POLYPLEX', 'MANAKSTEEL', 'TIRUMALCHM', 'VINDHYATEL', 'INFOBEAN', 'AIAENG', 'FCONSUMER', 'GTLINFRA', 'GILLETTE', 'ORICONENT', 'RESPONIND', 'ZODIAC', 'HEROMOTOCO', 'INDIAGLYCO', 'HIL', 'RPPINFRA', 'DBSTOCKBRO', 'OMAXE', 'BBTCL', 'SHREEPUSHK', 'MINDTREE', 'ASAHISONG', 'ARVINDFASN', 'CONFIPET', 'HONDAPOWER', 'INDIGO', 'ICICINXT50', 'CADILAHC', 'GBGLOBAL', 'SUNFLAG', 'BAJAJCON', 'VSTTILLERS', 'RAJESHEXPO', 'IDEA', 'SYNCOM', 'VSTIND', 'MTEDUCARE', 'LIBERTSHOE', 'RTNINFRA', 'BRIGADE', 'MANUGRAPH', 'ORIENTALTL', 'JASH', 'NETFDIVOPP', 'PEL', 'BALKRISIND', 'GMDCLTD', 'IDFC', 'DYNPRO', 'PFIZER', 'KOLTEPATIL', 'RAYMOND', 'SEQUENT', 'GANECOS', 'ORIENTLTD', 'UMESLTD', 'AMBUJACEM', 'SUNDRMBRAK', 'ASPINWALL', 'MAITHANALL', 'SHIVATEX', 'SPCENET', 'PURVA', 'CHROMATIC', 'ABSLBANETF', 'ARCHIDPLY', 'UMANGDAIRY', 'MARINE', 'SAKAR', 'TDPOWERSYS', 'KRIDHANINF', 'SHANKARA', 'PETRONENGG', 'HITECHCORP', 'SANCO', 'GAYAPROJ', 'RSYSTEMS', 'CENTENKA', 'MUKANDENGG', 'PONNIERODE', 'UFO', 'GOACARBON', 'DRSDILIP', 'LAKSHVILAS', 'HCG', 'NETFLTGILT', 'GOCLCORP', 'DCBBANK', 'ICRA', 'GEOJITFSL', 'SREEL', 'KAYA', 'TRIVENI', 'LOKESHMACH', 'TCIDEVELOP', 'EIMCOELECO', 'AFFLE', 'CCHHL', 'HNGSNGBEES', 'SAGARDEEP', 'VLSFINANCE', 'HDFCBANK', 'PULZ', 'IITL', 'GOKULAGRO', 'ITI', 'ACCURACY', 'SASTASUNDR', 'SFL', 'GILLANDERS', 'DABUR', 'NAHARCAP', 'SUMIT', 'ARENTERP', 'CAMLINFINE', 'WHEELS', 'ARSHIYA', '3PLAND', 'EUROTEXIND', 'NSIL', 'PPAP', 'SMARTLINK', 'RUSHIL', 'STEELCITY', 'APOLLOTYRE', 'TEAMLEASE', 'DEN', 'GOKUL', 'DUCON', 'DFMFOODS', 'PFC', 'TCPLPACK', 'GENUSPAPER', 'AISL', 'RKDL', 'NAGAFERT', 'INDLMETER', 'SRPL', 'BALKRISHNA', 'GNA', 'MAGNUM', 'BOSCHLTD', 'CANFINHOME', 'BARTRONICS', 'SAFARI', 'TEXMOPIPES', 'TCS', 'COMPUSOFT', 'NITINSPIN', 'SHAKTIPUMP', 'NAVNETEDUL', 'AJMERA', 'TATASTEEL', 'WALCHANNAG', 'BEDMUTHA', 'ABB', 'IMPAL', 'GUJAPOLLO', 'SABEVENTS', 'AUBANK', 'SDBL', 'MFSL', 'IRISDOREME', 'BPL', 'PIONDIST', 'UNIPLY', 'KILITCH', 'TECHM', 'NRAIL', 'PENIND', 'GULPOLY', 'HMVL', 'TBZ', 'SUDARSCHEM', 'WINDMACHIN', 'PAEL', 'GANDHITUBE', 'ASIANHOTNR', 'A2ZINFRA', 'JUBILANT', 'PREMIER', 'EROSMEDIA', 'KSHITIJPOL', 'ZENSARTECH', 'SPAL', 'QUICKHEAL', 'SIL', 'NBCC', 'JAGSNPHARM', 'MGEL', 'VGUARD', 'ARVIND', 'VAIBHAVGBL', 'CMICABLES', 'LIQUIDBEES', 'DSSL', 'INTEGRA', 'ADVANIHOTR', 'KIRLOSBROS', 'RSSOFTWARE', 'HEXATRADEX', 'MUNJALSHOW', 'INTELLECT', 'INDSWFTLAB', 'ITC', 'JINDCOT', 'AARTIDRUGS', 'SANGHVIFOR', 'EIHAHOTELS', 'AKSHARCHEM', 'GEECEE', 'AVANTIFEED', 'ARIES', 'SUPREMEENG', 'IDBI', 'MHRIL', 'WIPRO', 'GREAVESCOT', 'ELECTHERM', 'KOHINOOR', 'INDIANHUME', 'VINYLINDIA', 'STEELXIND', 'OCCL', 'JITFINFRA', 'GVKPIL', 'VIPCLOTHNG', 'AKASH', 'FLFL', 'HDFC', 'SINTEX', 'MARSHALL', 'HCL-INSYS', 'UCOBANK', '3IINFOTECH', 'KELLTONTEC', 'SWSOLAR', 'BALMLAWRIE', 'VETO', 'MANINFRA', 'MANGCHEFER', 'EIDPARRY', 'GOLDBEES', 'GMBREW', 'CASTEXTECH', 'BERGEPAINT', 'OISL', 'DSML', 'BALAJITELE', 'THOMASCOOK', 'ABCAPITAL', 'UNIONBANK', 'SATHAISPAT', 'MANAKCOAT', 'GULFPETRO', 'ALCHEM', 'SANGHVIMOV', 'ASIANPAINT', 'BATAINDIA', 'TRANSWIND', 'BEL', 'PAGEIND', 'SANGAMIND', 'ASTRAZEN', 'KICL', 'SHREECEM', 'UNITEDBNK', 'VASCONEQ', 'ROLTA', 'TANLA', 'GUFICBIO', 'HOVS', 'STAR', 'MITTAL', 'PRAJIND', 'PASHUPATI', 'PATSPINLTD', 'GODREJPROP', 'CAPACITE', 'GRASIM', 'LGBFORGE', 'RECLTD', 'SYNGENE', 'DTIL', 'KOTAKBANK', 'KCP', 'GRAPHITE', 'NACLIND', 'ORIENTHOT', 'AIONJSW', 'VASWANI', 'RPGLIFE', 'AARTIIND', 'NETFNIF100', 'KSERASERA', 'FINCABLES', 'GSCLCEMENT', 'PENINLAND', 'BCG', 'KALPATPOWR', 'KIRIINDUS', 'FACT', 'OIL', 'VBL', 'DHUNINV', 'SPIC', 'BRITANNIA', 'TERASOFT', 'SHARIABEES', 'SALZERELEC', 'AVG', 'TASTYBITE', 'PROSEED', 'LICNETFN50', 'RBL', 'GTPL', 'BROOKS', 'MCDHOLDING', 'MKPL', 'MSTCLTD', 'SGL', 'CONCOR', 'INDHOTEL', 'INDOWIND', 'TAKE', 'ALPA', 'BUTTERFLY', 'JISLJALEQS', 'ATULAUTO', 'AMBER', 'STARCEMENT', 'VARROC', 'SHIL', 'RAMCOCEM', 'TATACOMM', 'LIBAS', 'OILCOUNTUB', 'PRAKASH', 'UTISENSETF', 'ASHOKLEY', 'KERNEX', 'LAURUSLABS', 'M&M', 'NETFNV20', 'BANKA', 'ABINFRA', 'RNAVAL', 'VIKASECO', 'CGCL', 'NIFTYEES', 'PARIN', 'ARTEMISMED', 'PGIL', 'KOTHARIPRO', 'SUNDARMFIN', 'SELAN', 'MEP', 'DYNAMATECH', 'LEMONTREE', 'SILINV', 'BASF', 'SHEMAROO', 'TWL', 'BHARATFORG', 'JKCEMENT', 'KTKBANK', 'ABMINTLTD', 'NRBBEARING', 'PARACABLES', 'KOTHARIPET', 'SETFNN50', 'SUPRAJIT', '21STCENMGM', 'BAJAJFINSV', 'KEC', 'NAGREEKCAP', 'TORNTPHARM', 'VOLTAMP', 'WSTCSTPAPR', 'ITDC', 'CTE', 'WONDERLA', 'HCLTECH', 'AROGRANITE', 'USHAMART', 'MEGH', 'ZUARI', 'NIITLTD', 'SUJANAUNI', 'TIMKEN', 'GODREJIND', 'KAMATHOTEL', 'DIVISLAB', 'AGCNET', 'MANGTIMBER', 'COSMOFILMS', 'GOLDSHARE', 'HITECH', 'QUESS', 'OMAXAUTO', 'ASHOKA', 'PAISALO', 'PROZONINTU', 'SUREVIN', 'FMGOETZE', 'SHREYANIND', 'CEREBRAINT', 'QNIFTY', 'MOHITIND', 'INFY', 'ARIHANT', 'VINATIORGA', 'VIPIND', 'UNIINFO', 'GLFL', 'NILKAMAL', 'GTNTEX', 'THERMAX', 'JAKHARIA', 'MAN50ETF', 'IFCI', 'GARDENSILK', 'CONSOFINVT', 'KHADIM', 'INNOVANA', 'SYNDIBANK', 'IVZINGOLD', 'SUMEETINDS', 'TRIL', 'TAINWALCHM', 'GALAXYSURF', 'BOMDYEING', 'JAMNAAUTO', 'SPMLINFRA', 'LUXIND', 'PEARLPOLY', 'SUBROS', 'MASTEK', 'TGBHOTELS', 'TATAMETALI', 'AHLADA', 'AIRAN', 'SICAGEN', 'DPSCLTD', 'MOLDTECH', 'HILTON', 'ANIKINDS', 'ALBK', 'SHYAMCENT', 'FRETAIL', 'HDFCAMC', 'MUKTAARTS', 'WEBELSOLAR', 'FMNL', 'TTKHLTCARE', 'ICIL', 'MANAPPURAM', 'ADSL', 'JTEKTINDIA', 'UJAAS', 'TRIGYN', 'KPITTECH', 'PTC', 'BSOFT', 'AXISNIFTY', 'SCI', 'HFCL', 'SIS', 'TEJASNET', 'THOMASCOTT', 'SAGCEM', 'JBCHEPHARM', 'MCLEODRUSS', 'SALONA', 'BHAGERIA', 'MORARJEE', 'LEXUS', 'ASTRAMICRO', 'NHPC', 'PERFECT', 'APOLLO', 'ASIANTILES', 'MAHSCOOTER', 'SBIETFQLTY', 'POKARNA', 'MBLINFRA', 'GUJALKALI', 'SSINFRA', 'DWARKESH', 'ADANITRANS', 'AMRUTANJAN', 'GICHSGFIN', 'CHEMFAB', 'INDOTECH', 'SCHAEFFLER', 'DPABHUSHAN', 'PANACHE', 'ICICIGOLD', 'IOC', 'KALYANIFRG', 'OPTOCIRCUI', 'BANKBARODA', 'SHUBHLAXMI', 'STARPAPER', 'KANORICHEM', 'SHRIPISTON', 'INDIANCARD', 'MOTILALOFS', 'M100', 'BSHSL', 'SIMPLEXINF', 'UNIVASTU', 'BABAFOOD', 'SUTLEJTEX', 'INDORAMA', 'ENIL', 'GISOLUTION', 'EBBETF0430', 'JAICORPLTD', 'NXTDIGITAL', 'SKIL', 'GPPL', 'JAIBALAJI', 'VHL', 'SUNTECK', 'MAHLOG', 'CREATIVEYE', 'IBREALEST', 'CCL', 'MUTHOOTFIN', 'SUBCAPCITY', 'BHARATGEAR', 'PRICOLLTD', 'DGCONTENT', 'VIMALOIL', 'RUPA', 'BSLNIFTY', 'SHRENIK', 'DAMODARIND', 'FIEMIND', 'SUPPETRO', 'ADORWELD', 'PERSISTENT', 'MAJESCO', 'HDFCLIFE', 'SPENTEX', 'BIOFILCHEM', 'ORIENTREF', 'BAYERCROP', 'MAXINDIA', 'ASTEC', 'RBLBANK', 'AVTNPL', 'APLAPOLLO', 'BLBLIMITED', 'METALFORGE', 'ARSSINFRA', 'SIYSIL', 'SOUTHWEST', 'ABBOTINDIA', 'TNPETRO', 'TEXRAIL', 'CNOVAPETRO', 'NTPC', 'BAJAJHIND', 'JKTYRE', 'SALASAR', 'HITECHGEAR', 'EIFFL', 'CUPID', 'OSWALSEEDS', 'WEIZMANIND', 'LAXMIMACH', 'HINDSYNTEX', 'RICOAUTO', 'GENUSPOWER', 'ANKITMETAL', 'NITCO', 'RALLIS', 'UFLEX', 'JISLDVREQS', 'STEL', 'SUNTV', 'BLUEBLENDS', 'MOHOTAIND', 'KIRLFER', 'BANKBEES', 'TIDEWATER', 'DONEAR', 'BSL', 'SANWARIA', 'BANCOINDIA', 'PLASTIBLEN', 'BANDHANBNK', 'RAIN', 'AURIONPRO', 'PDMJEPAPER', 'ORIENTCEM', 'UTTAMSTL', 'NATHBIOGEN', 'IMFA', 'SARDAEN', 'WILLAMAGOR', 'SHILPAMED', 'FINPIPE', 'PCJEWELLER', 'DATAMATICS', 'MIRCELECTR', 'VISESHINFO', 'ISMTLTD', 'ITDCEM', 'KHAITANLTD', 'APCOTEXIND', 'SVLL', 'DQE', 'RAJTV', 'ARCOTECH', 'SMSLIFE', 'ICICIGI', 'INDIAMART', 'RELAXO', 'JINDALPHOT', 'PIIND', 'MCDOWELL-N', 'ADLABS', 'BIOCON', 'SPENCERS', 'MAHINDCIE', 'ORIENTPPR', 'THEINVEST', 'VIMTALABS', 'AVROIND', 'GUJRAFFIA', 'THANGAMAYL', 'RENUKA', 'KOTARISUG', 'SOLARINDS', 'CDSL', 'HISARMETAL', 'ALPSINDUS', 'INDBANK', 'TPLPLASTEH', 'MBECL', 'MSPL', 'COUNCODOS', 'SHALPAINTS', 'AMDIND', 'KANANIIND', 'SOMICONVEY', 'TECHNOE', 'CALSOFT', 'CANTABIL', 'EMKAY', 'INDTERRAIN', 'SRF', 'WELSPUNIND', 'TOUCHWOOD', 'PUSHPREALM', 'SMSPHARMA', 'KIRLOSIND', 'ONGC', 'NATIONALUM', 'SUZLON', 'GPTINFRA', 'WIPL', 'TECHIN', 'HDFCNIFETF', 'EICHERMOT', 'MRO-TEK', 'PRSMJOHNSN', 'ANANTRAJ', 'DAAWAT', 'MDL', 'SREINFRA', 'IVP', 'TATAGLOBAL', 'SHREDIGCEM', 'BEML', 'CERA', 'THEJO', 'CONTROLPR', 'VTL', 'SHIRPUR-G', 'AXISBANK', 'NAUKRI', 'ADROITINFO', 'TATAPOWER', 'TTML', 'KOKUYOCMLN', 'SUNPHARMA', 'BALLARPUR', 'VADILALIND', 'SURANASOL', 'SHANTI', 'DIAMONDYD', 'MODIRUBBER', 'DELTACORP', 'SHIVAMILLS', 'JUNIORBEES', 'RADAAN', 'COCHINSHIP', 'SALSTEEL', 'CANBK', 'GIPCL', 'DICIND', 'PNCINFRA', 'SPARC', 'BALAXI', 'SANGINITA', 'BIGBLOC', 'NDGL', 'APCL', 'BSE', 'SHARDAMOTR', 'BSELINFRA', 'NOIDATOLL', 'WABAG', '5PAISA', 'PDPL', 'CAREERP', 'HBSL', 'PALREDTEC', 'SMVD', 'PARSVNATH', 'GLOBALVECT', 'KOTAKNV20', 'DHANUKA', 'ALKYLAMINE', 'JINDALSTEL', 'SPLIL', 'N100', 'AGROPHOS', 'ZODJRDMKJ', 'FOSECOIND', 'SBIN', 'TVTODAY', 'MINDTECK', 'VIJIFIN', 'JMCPROJECT', 'TARMAT', 'WHIRLPOOL', 'GESHIP', 'NUCLEUS', 'ESTER', 'CHOLAFIN', 'RML', 'TRF', 'GLENMARK', 'GREENPANEL', 'NETF', 'METROPOLIS', 'ASAL', 'RCOM', 'SETFGOLD', 'AKZOINDIA', 'DLINKINDIA', 'CLNINDIA', 'DCAL', 'SWARAJENG', 'PRECWIRE', 'MMTC', 'EIHOTEL', 'ZENTEC', 'GLOBUSSPR', 'MENONBE', 'TREJHARA', 'KOTAKNIFTY', 'TVSMOTOR', 'RANASUG', 'ASHAPURMIN', 'REFEX', 'KSCL', 'SKFINDIA', 'COMPINFO', 'BAJAJ-AUTO', 'ESSARSHPNG', 'HEIDELBERG', 'MANALIPETC', 'GDL', 'PFS', 'MAANALU', 'AXISGOLD', 'CUB', 'CORALFINAC', 'MACPOWER', 'DOLAT', 'IVZINNIFTY', 'CHAMBLFERT', 'RANEHOLDIN', 'MALUPAPER', 'DANGEE', 'ENGINERSIN', 'PRAKASHSTL', 'CUMMINSIND', 'LALPATHLAB', 'IVC', 'KENNAMET', 'LOTUSEYE', 'MUKANDLTD', 'MURUDCERA', 'ABAN', 'EMKAYTOOLS', 'CENTUM', 'MAZDA', 'KABRAEXTRU', 'SONAHISONA', 'BANARISUG', 'JUBLINDS', 'EKC', 'INFIBEAM', 'JHS', 'GAIL', 'JPOLYINVST', 'ASHIMASYN', 'TV18BRDCST', 'SUMMITSEC', 'AJANTPHARM', 'FILATEX', 'KPRMILL', 'BHARTIARTL', 'MOLDTKPAC', 'UNIVCABLES', 'HINDZINC', 'HGINFRA', 'RPOWER', 'SOMATEX', 'JAYAGROGN', 'ADHUNIKIND', 'JSL', 'ADFFOODS', 'JMFINANCIL', 'TIRUPATI', 'MINDACORP', 'NETWORK18', 'ONMOBILE', 'ZYDUSWELL', 'KESORAMIND', 'IFGLEXPOR', 'ALANKIT', 'APOLSINHOT', 'FEDERALBNK', 'SUVEN', 'PENTAGOLD', 'LTTS', 'AGRITECH', 'GICRE', 'ISFT', 'KECL', 'LICNFNHGP', 'CKFSL', 'SANDHAR', 'HTMEDIA', 'TOTAL', 'IBULISL', 'KIRLOSENG', 'ASHIANA', 'SIKKO', 'ABSLNN50ET', 'IEX', 'RELIABLE', 'MOKSH', 'CORPBANK', 'TRENT', 'PHOENIXLTD', 'DCW', 'ATNINTER', 'ICICINV20', 'TTL', 'TIPSINDLTD', 'PFOCUS', 'FAIRCHEM', 'RELIANCE', 'FORTIS', 'IRCTC', 'SNOWMAN', 'SAREGAMA', 'JSWHL', 'BBTC', 'ACE', 'SANGHIIND', 'MAHICKRA', 'MEGASOFT', 'RAMCOSYS', 'OMKARCHEM', 'SURYALAXMI', 'UJJIVAN', 'ABFRL', 'HINDCON', 'TTKPRESTIG', 'SSWL', 'MONTECARLO', 'PRAENG', 'CYBERMEDIA', 'JUSTDIAL', 'URJA', 'YESBANK', 'NETFMID150', 'POWERFUL', 'AKG', 'ICICIPRULI', 'ALBERTDAVD', 'GREENPOWER', 'SEPOWER', 'CARBORUNIV', 'HEXAWARE', 'DHANBANK', 'IBMFNIFTY', 'ORIENTBANK', 'SORILINFRA', 'M50', 'VARDHACRLC', 'APTECHT', 'EMAMILTD', 'NAHARSPING', 'TREEHOUSE', 'CADSYS', 'ICICIBANKP', 'CESC', 'TATAMOTORS', 'BIRLAMONEY', 'REVATHI', 'SADBHAV', 'MOREPENLAB', 'CYBERTECH', 'SHREYAS', 'ZEEMEDIA', 'IFBIND', 'GREENLAM', 'INOXLEISUR', 'NLCINDIA', 'DALBHARAT', 'GAMMNINFRA', 'ARROWGREEN', '3MINDIA', 'MASFIN', 'MMFL', 'BINDALAGRO', 'GINNIFILA', 'PRABHAT', 'NATNLSTEEL', 'DECCANCE', 'ELGIEQUIP', 'RAMKY', 'VISHAL', 'NAVINFLUOR', 'INDSWFTLTD', 'IMPEXFERRO', 'PIONEEREMB', 'PAPERPROD', 'GNFC', 'GMMPFAUDLR', 'KDDL', 'CASTROLIND', 'HINDNATGLS', 'STINDIA', 'BKMINDST', 'FELDVR', 'NESCO', 'ALLSEC', 'BANARBEADS', 'AHLEAST', 'UNICHEMLAB', 'POWERMECH', 'DENORA', 'RAMCOIND', 'VIVIMEDLAB', 'KUANTUM', 'MUTHOOTCAP', 'JOCIL', 'COROMANDEL', 'PALASHSECU', 'RUBYMILLS', 'TALWALKARS', 'PAR', 'URAVI', 'PTL', 'AMJLAND', 'PRECOT', 'BOHRA', 'TVVISION', 'BFUTILITIE', 'SHARDACROP', 'EXCEL', 'ROHLTD', 'SATIN', 'ADANIGREEN', 'LT', 'APARINDS', 'SUPERSPIN', 'SRIPIPES', 'GRPLTD', 'REDINGTON', 'DBCORP', 'TEXINFRA', 'MADHUCON', 'SKSTEXTILE', 'PRESSMN', 'SOBHA', 'ONELIFECAP', 'INDIANB', 'MIC', 'CENTURYTEX', 'ORBTEXP', 'NAVKARCORP', 'ANDHRACEMT', 'PSL', 'NIACL', 'L&TFH', 'HINDOILEXP', 'HARITASEAT', 'IIFLSEC', 'PILANIINVS', 'ALKALI', 'NILASPACES', 'SADBHIN', 'GSS', 'HINDMOTORS'}\n",
    "    if stock_symbol in allstock:\n",
    "        return True\n",
    "    else:\n",
    "        return False\n",
    "        "
   ]
  },
  {
   "cell_type": "code",
   "execution_count": 2,
   "id": "193b59dc",
   "metadata": {},
   "outputs": [],
   "source": [
    "import pandas as pd\n",
    "from zipfile import ZipFile\n",
    "import urllib.request\n",
    "import requests\n",
    "\n",
    "def download_csv_file(start_date,end_date):\n",
    "    dates = pd.period_range(start_date, end_date,freq='D')\n",
    "    \n",
    "    for i in dates:\n",
    "        newurl=\"https://www1.nseindia.com/content/historical/EQUITIES/\"+i.strftime(\"%Y\")+\"/\"+i.strftime(\"%b\").upper()+\"/cm\"+i.strftime(\"%d%b%Y\").upper()+\"bhav.csv.zip\"\n",
    "        \n",
    "        response = requests.get(newurl)\n",
    "        print(newurl)\n",
    "        if response.status_code != 200:\n",
    "            continue\n",
    "        urllib.request.urlretrieve(newurl, \"./zip_file/cm\"+i.strftime(\"%d%b%Y\").upper()+\"bhav.csv.zip\")\n",
    "        \n",
    "        with ZipFile(\".\\zip_file\\cm\"+i.strftime(\"%d%b%Y\").upper()+\"bhav.csv.zip\", 'r') as zObject:\n",
    "            zObject.extractall(path=\".\\csv file\")\n",
    "        "
   ]
  },
  {
   "cell_type": "code",
   "execution_count": 3,
   "id": "19e6fbb2",
   "metadata": {},
   "outputs": [],
   "source": [
    "import pandas as pd\n",
    "import os, shutil, glob\n",
    "\n",
    "def merge_csv_file(stock_symbol,start_date,end_date):\n",
    "    file_list = glob.glob('./csv file/*.csv')\n",
    "    final_df = pd.DataFrame()\n",
    "\n",
    "    for csv_file in file_list:\n",
    "        df = pd.read_csv(csv_file)\n",
    "        csv_file_name = csv_file.split('\\\\')\n",
    "        df.columns = df.columns.str.replace(' ', '')\n",
    "        df['TIMESTAMP'] = pd.to_datetime(df['TIMESTAMP'])\n",
    "        df.set_index(['TIMESTAMP'], inplace=True)\n",
    "\n",
    "        if 'Unnamed:13' in df.columns:\n",
    "            df.drop(['Unnamed:13'], axis=1, inplace=True)\n",
    "\n",
    "        df_trim = df.apply(lambda x: x.str.strip() if x.dtype == 'object' else x)\n",
    "\n",
    "        new_df = df_trim[df_trim['SERIES'].isin(['EQ', 'BE', 'SM'])]\n",
    "        final_df = final_df.append(new_df)\n",
    "        #os.remove(csv_file)\n",
    "\n",
    "    final_df.sort_index(inplace=True) #to sort by dates\n",
    "    final_df.to_csv('./final csv/bhavcopy_'+start_date+' -- '+end_date+'_data.csv')\n"
   ]
  },
  {
   "cell_type": "code",
   "execution_count": null,
   "id": "5b778260",
   "metadata": {},
   "outputs": [],
   "source": []
  },
  {
   "cell_type": "code",
   "execution_count": 4,
   "id": "42ff4dd9",
   "metadata": {},
   "outputs": [],
   "source": [
    "start_date = \"2021-01-22\"\n",
    "end_date = \"2021-01-30\"\n",
    "stock_symbol = \"20MICRONS\""
   ]
  },
  {
   "cell_type": "code",
   "execution_count": 5,
   "id": "6bcc9025",
   "metadata": {},
   "outputs": [
    {
     "name": "stdout",
     "output_type": "stream",
     "text": [
      "https://www1.nseindia.com/content/historical/EQUITIES/2021/JAN/cm22JAN2021bhav.csv.zip\n",
      "https://www1.nseindia.com/content/historical/EQUITIES/2021/JAN/cm23JAN2021bhav.csv.zip\n",
      "https://www1.nseindia.com/content/historical/EQUITIES/2021/JAN/cm24JAN2021bhav.csv.zip\n",
      "https://www1.nseindia.com/content/historical/EQUITIES/2021/JAN/cm25JAN2021bhav.csv.zip\n",
      "https://www1.nseindia.com/content/historical/EQUITIES/2021/JAN/cm26JAN2021bhav.csv.zip\n",
      "https://www1.nseindia.com/content/historical/EQUITIES/2021/JAN/cm27JAN2021bhav.csv.zip\n",
      "https://www1.nseindia.com/content/historical/EQUITIES/2021/JAN/cm28JAN2021bhav.csv.zip\n",
      "https://www1.nseindia.com/content/historical/EQUITIES/2021/JAN/cm29JAN2021bhav.csv.zip\n",
      "https://www1.nseindia.com/content/historical/EQUITIES/2021/JAN/cm30JAN2021bhav.csv.zip\n"
     ]
    }
   ],
   "source": [
    "download_csv_file(start_date,end_date)"
   ]
  },
  {
   "cell_type": "code",
   "execution_count": 6,
   "id": "82787222",
   "metadata": {},
   "outputs": [
    {
     "name": "stderr",
     "output_type": "stream",
     "text": [
      "C:\\Users\\utkar\\AppData\\Local\\Temp\\ipykernel_11716\\3623062378.py:21: FutureWarning: The frame.append method is deprecated and will be removed from pandas in a future version. Use pandas.concat instead.\n",
      "  final_df = final_df.append(new_df)\n",
      "C:\\Users\\utkar\\AppData\\Local\\Temp\\ipykernel_11716\\3623062378.py:21: FutureWarning: The frame.append method is deprecated and will be removed from pandas in a future version. Use pandas.concat instead.\n",
      "  final_df = final_df.append(new_df)\n",
      "C:\\Users\\utkar\\AppData\\Local\\Temp\\ipykernel_11716\\3623062378.py:21: FutureWarning: The frame.append method is deprecated and will be removed from pandas in a future version. Use pandas.concat instead.\n",
      "  final_df = final_df.append(new_df)\n",
      "C:\\Users\\utkar\\AppData\\Local\\Temp\\ipykernel_11716\\3623062378.py:21: FutureWarning: The frame.append method is deprecated and will be removed from pandas in a future version. Use pandas.concat instead.\n",
      "  final_df = final_df.append(new_df)\n",
      "C:\\Users\\utkar\\AppData\\Local\\Temp\\ipykernel_11716\\3623062378.py:21: FutureWarning: The frame.append method is deprecated and will be removed from pandas in a future version. Use pandas.concat instead.\n",
      "  final_df = final_df.append(new_df)\n",
      "C:\\Users\\utkar\\AppData\\Local\\Temp\\ipykernel_11716\\3623062378.py:21: FutureWarning: The frame.append method is deprecated and will be removed from pandas in a future version. Use pandas.concat instead.\n",
      "  final_df = final_df.append(new_df)\n",
      "C:\\Users\\utkar\\AppData\\Local\\Temp\\ipykernel_11716\\3623062378.py:21: FutureWarning: The frame.append method is deprecated and will be removed from pandas in a future version. Use pandas.concat instead.\n",
      "  final_df = final_df.append(new_df)\n",
      "C:\\Users\\utkar\\AppData\\Local\\Temp\\ipykernel_11716\\3623062378.py:21: FutureWarning: The frame.append method is deprecated and will be removed from pandas in a future version. Use pandas.concat instead.\n",
      "  final_df = final_df.append(new_df)\n"
     ]
    },
    {
     "name": "stdout",
     "output_type": "stream",
     "text": [
      "None\n"
     ]
    }
   ],
   "source": [
    "k=merge_csv_file(stock_symbol,start_date,end_date)"
   ]
  },
  {
   "cell_type": "code",
   "execution_count": 7,
   "id": "f13846ee",
   "metadata": {},
   "outputs": [
    {
     "name": "stdout",
     "output_type": "stream",
     "text": [
      "https://www1.nseindia.com/content/historical/EQUITIES/2021/JAN/cm22JAN2021bhav.csv.zip\n",
      "https://www1.nseindia.com/content/historical/EQUITIES/2021/JAN/cm23JAN2021bhav.csv.zip\n",
      "https://www1.nseindia.com/content/historical/EQUITIES/2021/JAN/cm24JAN2021bhav.csv.zip\n",
      "https://www1.nseindia.com/content/historical/EQUITIES/2021/JAN/cm25JAN2021bhav.csv.zip\n",
      "https://www1.nseindia.com/content/historical/EQUITIES/2021/JAN/cm26JAN2021bhav.csv.zip\n",
      "https://www1.nseindia.com/content/historical/EQUITIES/2021/JAN/cm27JAN2021bhav.csv.zip\n",
      "https://www1.nseindia.com/content/historical/EQUITIES/2021/JAN/cm28JAN2021bhav.csv.zip\n",
      "https://www1.nseindia.com/content/historical/EQUITIES/2021/JAN/cm29JAN2021bhav.csv.zip\n",
      "https://www1.nseindia.com/content/historical/EQUITIES/2021/JAN/cm30JAN2021bhav.csv.zip\n"
     ]
    }
   ],
   "source": [
    "download_csv_file(start_date,end_date)"
   ]
  },
  {
   "cell_type": "code",
   "execution_count": 23,
   "id": "783c0aff",
   "metadata": {
    "scrolled": true
   },
   "outputs": [
    {
     "ename": "ConnectionError",
     "evalue": "HTTPSConnectionPool(host='www1.nseindia.com', port=443): Max retries exceeded with url: /content/historical/EQUITIES/2021/JAN/cm22JAN2021bhav.csv.zip (Caused by NewConnectionError('<urllib3.connection.HTTPSConnection object at 0x000002E6A1627550>: Failed to establish a new connection: [WinError 10060] A connection attempt failed because the connected party did not properly respond after a period of time, or established connection failed because connected host has failed to respond'))",
     "output_type": "error",
     "traceback": [
      "\u001b[1;31m---------------------------------------------------------------------------\u001b[0m",
      "\u001b[1;31mTimeoutError\u001b[0m                              Traceback (most recent call last)",
      "File \u001b[1;32m~\\Anaconda3\\lib\\site-packages\\urllib3\\connection.py:174\u001b[0m, in \u001b[0;36mHTTPConnection._new_conn\u001b[1;34m(self)\u001b[0m\n\u001b[0;32m    173\u001b[0m \u001b[38;5;28;01mtry\u001b[39;00m:\n\u001b[1;32m--> 174\u001b[0m     conn \u001b[38;5;241m=\u001b[39m connection\u001b[38;5;241m.\u001b[39mcreate_connection(\n\u001b[0;32m    175\u001b[0m         (\u001b[38;5;28mself\u001b[39m\u001b[38;5;241m.\u001b[39m_dns_host, \u001b[38;5;28mself\u001b[39m\u001b[38;5;241m.\u001b[39mport), \u001b[38;5;28mself\u001b[39m\u001b[38;5;241m.\u001b[39mtimeout, \u001b[38;5;241m*\u001b[39m\u001b[38;5;241m*\u001b[39mextra_kw\n\u001b[0;32m    176\u001b[0m     )\n\u001b[0;32m    178\u001b[0m \u001b[38;5;28;01mexcept\u001b[39;00m SocketTimeout:\n",
      "File \u001b[1;32m~\\Anaconda3\\lib\\site-packages\\urllib3\\util\\connection.py:95\u001b[0m, in \u001b[0;36mcreate_connection\u001b[1;34m(address, timeout, source_address, socket_options)\u001b[0m\n\u001b[0;32m     94\u001b[0m \u001b[38;5;28;01mif\u001b[39;00m err \u001b[38;5;129;01mis\u001b[39;00m \u001b[38;5;129;01mnot\u001b[39;00m \u001b[38;5;28;01mNone\u001b[39;00m:\n\u001b[1;32m---> 95\u001b[0m     \u001b[38;5;28;01mraise\u001b[39;00m err\n\u001b[0;32m     97\u001b[0m \u001b[38;5;28;01mraise\u001b[39;00m socket\u001b[38;5;241m.\u001b[39merror(\u001b[38;5;124m\"\u001b[39m\u001b[38;5;124mgetaddrinfo returns an empty list\u001b[39m\u001b[38;5;124m\"\u001b[39m)\n",
      "File \u001b[1;32m~\\Anaconda3\\lib\\site-packages\\urllib3\\util\\connection.py:85\u001b[0m, in \u001b[0;36mcreate_connection\u001b[1;34m(address, timeout, source_address, socket_options)\u001b[0m\n\u001b[0;32m     84\u001b[0m     sock\u001b[38;5;241m.\u001b[39mbind(source_address)\n\u001b[1;32m---> 85\u001b[0m \u001b[43msock\u001b[49m\u001b[38;5;241;43m.\u001b[39;49m\u001b[43mconnect\u001b[49m\u001b[43m(\u001b[49m\u001b[43msa\u001b[49m\u001b[43m)\u001b[49m\n\u001b[0;32m     86\u001b[0m \u001b[38;5;28;01mreturn\u001b[39;00m sock\n",
      "\u001b[1;31mTimeoutError\u001b[0m: [WinError 10060] A connection attempt failed because the connected party did not properly respond after a period of time, or established connection failed because connected host has failed to respond",
      "\nDuring handling of the above exception, another exception occurred:\n",
      "\u001b[1;31mNewConnectionError\u001b[0m                        Traceback (most recent call last)",
      "File \u001b[1;32m~\\Anaconda3\\lib\\site-packages\\urllib3\\connectionpool.py:703\u001b[0m, in \u001b[0;36mHTTPConnectionPool.urlopen\u001b[1;34m(self, method, url, body, headers, retries, redirect, assert_same_host, timeout, pool_timeout, release_conn, chunked, body_pos, **response_kw)\u001b[0m\n\u001b[0;32m    702\u001b[0m \u001b[38;5;66;03m# Make the request on the httplib connection object.\u001b[39;00m\n\u001b[1;32m--> 703\u001b[0m httplib_response \u001b[38;5;241m=\u001b[39m \u001b[38;5;28;43mself\u001b[39;49m\u001b[38;5;241;43m.\u001b[39;49m\u001b[43m_make_request\u001b[49m\u001b[43m(\u001b[49m\n\u001b[0;32m    704\u001b[0m \u001b[43m    \u001b[49m\u001b[43mconn\u001b[49m\u001b[43m,\u001b[49m\n\u001b[0;32m    705\u001b[0m \u001b[43m    \u001b[49m\u001b[43mmethod\u001b[49m\u001b[43m,\u001b[49m\n\u001b[0;32m    706\u001b[0m \u001b[43m    \u001b[49m\u001b[43murl\u001b[49m\u001b[43m,\u001b[49m\n\u001b[0;32m    707\u001b[0m \u001b[43m    \u001b[49m\u001b[43mtimeout\u001b[49m\u001b[38;5;241;43m=\u001b[39;49m\u001b[43mtimeout_obj\u001b[49m\u001b[43m,\u001b[49m\n\u001b[0;32m    708\u001b[0m \u001b[43m    \u001b[49m\u001b[43mbody\u001b[49m\u001b[38;5;241;43m=\u001b[39;49m\u001b[43mbody\u001b[49m\u001b[43m,\u001b[49m\n\u001b[0;32m    709\u001b[0m \u001b[43m    \u001b[49m\u001b[43mheaders\u001b[49m\u001b[38;5;241;43m=\u001b[39;49m\u001b[43mheaders\u001b[49m\u001b[43m,\u001b[49m\n\u001b[0;32m    710\u001b[0m \u001b[43m    \u001b[49m\u001b[43mchunked\u001b[49m\u001b[38;5;241;43m=\u001b[39;49m\u001b[43mchunked\u001b[49m\u001b[43m,\u001b[49m\n\u001b[0;32m    711\u001b[0m \u001b[43m\u001b[49m\u001b[43m)\u001b[49m\n\u001b[0;32m    713\u001b[0m \u001b[38;5;66;03m# If we're going to release the connection in ``finally:``, then\u001b[39;00m\n\u001b[0;32m    714\u001b[0m \u001b[38;5;66;03m# the response doesn't need to know about the connection. Otherwise\u001b[39;00m\n\u001b[0;32m    715\u001b[0m \u001b[38;5;66;03m# it will also try to release it and we'll have a double-release\u001b[39;00m\n\u001b[0;32m    716\u001b[0m \u001b[38;5;66;03m# mess.\u001b[39;00m\n",
      "File \u001b[1;32m~\\Anaconda3\\lib\\site-packages\\urllib3\\connectionpool.py:386\u001b[0m, in \u001b[0;36mHTTPConnectionPool._make_request\u001b[1;34m(self, conn, method, url, timeout, chunked, **httplib_request_kw)\u001b[0m\n\u001b[0;32m    385\u001b[0m \u001b[38;5;28;01mtry\u001b[39;00m:\n\u001b[1;32m--> 386\u001b[0m     \u001b[38;5;28;43mself\u001b[39;49m\u001b[38;5;241;43m.\u001b[39;49m\u001b[43m_validate_conn\u001b[49m\u001b[43m(\u001b[49m\u001b[43mconn\u001b[49m\u001b[43m)\u001b[49m\n\u001b[0;32m    387\u001b[0m \u001b[38;5;28;01mexcept\u001b[39;00m (SocketTimeout, BaseSSLError) \u001b[38;5;28;01mas\u001b[39;00m e:\n\u001b[0;32m    388\u001b[0m     \u001b[38;5;66;03m# Py2 raises this as a BaseSSLError, Py3 raises it as socket timeout.\u001b[39;00m\n",
      "File \u001b[1;32m~\\Anaconda3\\lib\\site-packages\\urllib3\\connectionpool.py:1040\u001b[0m, in \u001b[0;36mHTTPSConnectionPool._validate_conn\u001b[1;34m(self, conn)\u001b[0m\n\u001b[0;32m   1039\u001b[0m \u001b[38;5;28;01mif\u001b[39;00m \u001b[38;5;129;01mnot\u001b[39;00m \u001b[38;5;28mgetattr\u001b[39m(conn, \u001b[38;5;124m\"\u001b[39m\u001b[38;5;124msock\u001b[39m\u001b[38;5;124m\"\u001b[39m, \u001b[38;5;28;01mNone\u001b[39;00m):  \u001b[38;5;66;03m# AppEngine might not have  `.sock`\u001b[39;00m\n\u001b[1;32m-> 1040\u001b[0m     \u001b[43mconn\u001b[49m\u001b[38;5;241;43m.\u001b[39;49m\u001b[43mconnect\u001b[49m\u001b[43m(\u001b[49m\u001b[43m)\u001b[49m\n\u001b[0;32m   1042\u001b[0m \u001b[38;5;28;01mif\u001b[39;00m \u001b[38;5;129;01mnot\u001b[39;00m conn\u001b[38;5;241m.\u001b[39mis_verified:\n",
      "File \u001b[1;32m~\\Anaconda3\\lib\\site-packages\\urllib3\\connection.py:358\u001b[0m, in \u001b[0;36mHTTPSConnection.connect\u001b[1;34m(self)\u001b[0m\n\u001b[0;32m    356\u001b[0m \u001b[38;5;28;01mdef\u001b[39;00m \u001b[38;5;21mconnect\u001b[39m(\u001b[38;5;28mself\u001b[39m):\n\u001b[0;32m    357\u001b[0m     \u001b[38;5;66;03m# Add certificate verification\u001b[39;00m\n\u001b[1;32m--> 358\u001b[0m     \u001b[38;5;28mself\u001b[39m\u001b[38;5;241m.\u001b[39msock \u001b[38;5;241m=\u001b[39m conn \u001b[38;5;241m=\u001b[39m \u001b[38;5;28;43mself\u001b[39;49m\u001b[38;5;241;43m.\u001b[39;49m\u001b[43m_new_conn\u001b[49m\u001b[43m(\u001b[49m\u001b[43m)\u001b[49m\n\u001b[0;32m    359\u001b[0m     hostname \u001b[38;5;241m=\u001b[39m \u001b[38;5;28mself\u001b[39m\u001b[38;5;241m.\u001b[39mhost\n",
      "File \u001b[1;32m~\\Anaconda3\\lib\\site-packages\\urllib3\\connection.py:186\u001b[0m, in \u001b[0;36mHTTPConnection._new_conn\u001b[1;34m(self)\u001b[0m\n\u001b[0;32m    185\u001b[0m \u001b[38;5;28;01mexcept\u001b[39;00m SocketError \u001b[38;5;28;01mas\u001b[39;00m e:\n\u001b[1;32m--> 186\u001b[0m     \u001b[38;5;28;01mraise\u001b[39;00m NewConnectionError(\n\u001b[0;32m    187\u001b[0m         \u001b[38;5;28mself\u001b[39m, \u001b[38;5;124m\"\u001b[39m\u001b[38;5;124mFailed to establish a new connection: \u001b[39m\u001b[38;5;132;01m%s\u001b[39;00m\u001b[38;5;124m\"\u001b[39m \u001b[38;5;241m%\u001b[39m e\n\u001b[0;32m    188\u001b[0m     )\n\u001b[0;32m    190\u001b[0m \u001b[38;5;28;01mreturn\u001b[39;00m conn\n",
      "\u001b[1;31mNewConnectionError\u001b[0m: <urllib3.connection.HTTPSConnection object at 0x000002E6A1627550>: Failed to establish a new connection: [WinError 10060] A connection attempt failed because the connected party did not properly respond after a period of time, or established connection failed because connected host has failed to respond",
      "\nDuring handling of the above exception, another exception occurred:\n",
      "\u001b[1;31mMaxRetryError\u001b[0m                             Traceback (most recent call last)",
      "File \u001b[1;32m~\\Anaconda3\\lib\\site-packages\\requests\\adapters.py:440\u001b[0m, in \u001b[0;36mHTTPAdapter.send\u001b[1;34m(self, request, stream, timeout, verify, cert, proxies)\u001b[0m\n\u001b[0;32m    439\u001b[0m \u001b[38;5;28;01mif\u001b[39;00m \u001b[38;5;129;01mnot\u001b[39;00m chunked:\n\u001b[1;32m--> 440\u001b[0m     resp \u001b[38;5;241m=\u001b[39m \u001b[43mconn\u001b[49m\u001b[38;5;241;43m.\u001b[39;49m\u001b[43murlopen\u001b[49m\u001b[43m(\u001b[49m\n\u001b[0;32m    441\u001b[0m \u001b[43m        \u001b[49m\u001b[43mmethod\u001b[49m\u001b[38;5;241;43m=\u001b[39;49m\u001b[43mrequest\u001b[49m\u001b[38;5;241;43m.\u001b[39;49m\u001b[43mmethod\u001b[49m\u001b[43m,\u001b[49m\n\u001b[0;32m    442\u001b[0m \u001b[43m        \u001b[49m\u001b[43murl\u001b[49m\u001b[38;5;241;43m=\u001b[39;49m\u001b[43murl\u001b[49m\u001b[43m,\u001b[49m\n\u001b[0;32m    443\u001b[0m \u001b[43m        \u001b[49m\u001b[43mbody\u001b[49m\u001b[38;5;241;43m=\u001b[39;49m\u001b[43mrequest\u001b[49m\u001b[38;5;241;43m.\u001b[39;49m\u001b[43mbody\u001b[49m\u001b[43m,\u001b[49m\n\u001b[0;32m    444\u001b[0m \u001b[43m        \u001b[49m\u001b[43mheaders\u001b[49m\u001b[38;5;241;43m=\u001b[39;49m\u001b[43mrequest\u001b[49m\u001b[38;5;241;43m.\u001b[39;49m\u001b[43mheaders\u001b[49m\u001b[43m,\u001b[49m\n\u001b[0;32m    445\u001b[0m \u001b[43m        \u001b[49m\u001b[43mredirect\u001b[49m\u001b[38;5;241;43m=\u001b[39;49m\u001b[38;5;28;43;01mFalse\u001b[39;49;00m\u001b[43m,\u001b[49m\n\u001b[0;32m    446\u001b[0m \u001b[43m        \u001b[49m\u001b[43massert_same_host\u001b[49m\u001b[38;5;241;43m=\u001b[39;49m\u001b[38;5;28;43;01mFalse\u001b[39;49;00m\u001b[43m,\u001b[49m\n\u001b[0;32m    447\u001b[0m \u001b[43m        \u001b[49m\u001b[43mpreload_content\u001b[49m\u001b[38;5;241;43m=\u001b[39;49m\u001b[38;5;28;43;01mFalse\u001b[39;49;00m\u001b[43m,\u001b[49m\n\u001b[0;32m    448\u001b[0m \u001b[43m        \u001b[49m\u001b[43mdecode_content\u001b[49m\u001b[38;5;241;43m=\u001b[39;49m\u001b[38;5;28;43;01mFalse\u001b[39;49;00m\u001b[43m,\u001b[49m\n\u001b[0;32m    449\u001b[0m \u001b[43m        \u001b[49m\u001b[43mretries\u001b[49m\u001b[38;5;241;43m=\u001b[39;49m\u001b[38;5;28;43mself\u001b[39;49m\u001b[38;5;241;43m.\u001b[39;49m\u001b[43mmax_retries\u001b[49m\u001b[43m,\u001b[49m\n\u001b[0;32m    450\u001b[0m \u001b[43m        \u001b[49m\u001b[43mtimeout\u001b[49m\u001b[38;5;241;43m=\u001b[39;49m\u001b[43mtimeout\u001b[49m\n\u001b[0;32m    451\u001b[0m \u001b[43m    \u001b[49m\u001b[43m)\u001b[49m\n\u001b[0;32m    453\u001b[0m \u001b[38;5;66;03m# Send the request.\u001b[39;00m\n\u001b[0;32m    454\u001b[0m \u001b[38;5;28;01melse\u001b[39;00m:\n",
      "File \u001b[1;32m~\\Anaconda3\\lib\\site-packages\\urllib3\\connectionpool.py:785\u001b[0m, in \u001b[0;36mHTTPConnectionPool.urlopen\u001b[1;34m(self, method, url, body, headers, retries, redirect, assert_same_host, timeout, pool_timeout, release_conn, chunked, body_pos, **response_kw)\u001b[0m\n\u001b[0;32m    783\u001b[0m     e \u001b[38;5;241m=\u001b[39m ProtocolError(\u001b[38;5;124m\"\u001b[39m\u001b[38;5;124mConnection aborted.\u001b[39m\u001b[38;5;124m\"\u001b[39m, e)\n\u001b[1;32m--> 785\u001b[0m retries \u001b[38;5;241m=\u001b[39m \u001b[43mretries\u001b[49m\u001b[38;5;241;43m.\u001b[39;49m\u001b[43mincrement\u001b[49m\u001b[43m(\u001b[49m\n\u001b[0;32m    786\u001b[0m \u001b[43m    \u001b[49m\u001b[43mmethod\u001b[49m\u001b[43m,\u001b[49m\u001b[43m \u001b[49m\u001b[43murl\u001b[49m\u001b[43m,\u001b[49m\u001b[43m \u001b[49m\u001b[43merror\u001b[49m\u001b[38;5;241;43m=\u001b[39;49m\u001b[43me\u001b[49m\u001b[43m,\u001b[49m\u001b[43m \u001b[49m\u001b[43m_pool\u001b[49m\u001b[38;5;241;43m=\u001b[39;49m\u001b[38;5;28;43mself\u001b[39;49m\u001b[43m,\u001b[49m\u001b[43m \u001b[49m\u001b[43m_stacktrace\u001b[49m\u001b[38;5;241;43m=\u001b[39;49m\u001b[43msys\u001b[49m\u001b[38;5;241;43m.\u001b[39;49m\u001b[43mexc_info\u001b[49m\u001b[43m(\u001b[49m\u001b[43m)\u001b[49m\u001b[43m[\u001b[49m\u001b[38;5;241;43m2\u001b[39;49m\u001b[43m]\u001b[49m\n\u001b[0;32m    787\u001b[0m \u001b[43m\u001b[49m\u001b[43m)\u001b[49m\n\u001b[0;32m    788\u001b[0m retries\u001b[38;5;241m.\u001b[39msleep()\n",
      "File \u001b[1;32m~\\Anaconda3\\lib\\site-packages\\urllib3\\util\\retry.py:592\u001b[0m, in \u001b[0;36mRetry.increment\u001b[1;34m(self, method, url, response, error, _pool, _stacktrace)\u001b[0m\n\u001b[0;32m    591\u001b[0m \u001b[38;5;28;01mif\u001b[39;00m new_retry\u001b[38;5;241m.\u001b[39mis_exhausted():\n\u001b[1;32m--> 592\u001b[0m     \u001b[38;5;28;01mraise\u001b[39;00m MaxRetryError(_pool, url, error \u001b[38;5;129;01mor\u001b[39;00m ResponseError(cause))\n\u001b[0;32m    594\u001b[0m log\u001b[38;5;241m.\u001b[39mdebug(\u001b[38;5;124m\"\u001b[39m\u001b[38;5;124mIncremented Retry for (url=\u001b[39m\u001b[38;5;124m'\u001b[39m\u001b[38;5;132;01m%s\u001b[39;00m\u001b[38;5;124m'\u001b[39m\u001b[38;5;124m): \u001b[39m\u001b[38;5;132;01m%r\u001b[39;00m\u001b[38;5;124m\"\u001b[39m, url, new_retry)\n",
      "\u001b[1;31mMaxRetryError\u001b[0m: HTTPSConnectionPool(host='www1.nseindia.com', port=443): Max retries exceeded with url: /content/historical/EQUITIES/2021/JAN/cm22JAN2021bhav.csv.zip (Caused by NewConnectionError('<urllib3.connection.HTTPSConnection object at 0x000002E6A1627550>: Failed to establish a new connection: [WinError 10060] A connection attempt failed because the connected party did not properly respond after a period of time, or established connection failed because connected host has failed to respond'))",
      "\nDuring handling of the above exception, another exception occurred:\n",
      "\u001b[1;31mConnectionError\u001b[0m                           Traceback (most recent call last)",
      "Input \u001b[1;32mIn [23]\u001b[0m, in \u001b[0;36m<cell line: 1>\u001b[1;34m()\u001b[0m\n\u001b[1;32m----> 1\u001b[0m \u001b[43mdownload_csv_file\u001b[49m\u001b[43m(\u001b[49m\u001b[43mstart_date\u001b[49m\u001b[43m,\u001b[49m\u001b[43mend_date\u001b[49m\u001b[43m)\u001b[49m\n",
      "Input \u001b[1;32mIn [20]\u001b[0m, in \u001b[0;36mdownload_csv_file\u001b[1;34m(start_date, end_date)\u001b[0m\n\u001b[0;32m      9\u001b[0m \u001b[38;5;28;01mfor\u001b[39;00m i \u001b[38;5;129;01min\u001b[39;00m dates:\n\u001b[0;32m     10\u001b[0m     newurl\u001b[38;5;241m=\u001b[39m\u001b[38;5;124m\"\u001b[39m\u001b[38;5;124mhttps://www1.nseindia.com/content/historical/EQUITIES/\u001b[39m\u001b[38;5;124m\"\u001b[39m\u001b[38;5;241m+\u001b[39mi\u001b[38;5;241m.\u001b[39mstrftime(\u001b[38;5;124m\"\u001b[39m\u001b[38;5;124m%\u001b[39m\u001b[38;5;124mY\u001b[39m\u001b[38;5;124m\"\u001b[39m)\u001b[38;5;241m+\u001b[39m\u001b[38;5;124m\"\u001b[39m\u001b[38;5;124m/\u001b[39m\u001b[38;5;124m\"\u001b[39m\u001b[38;5;241m+\u001b[39mi\u001b[38;5;241m.\u001b[39mstrftime(\u001b[38;5;124m\"\u001b[39m\u001b[38;5;124m%\u001b[39m\u001b[38;5;124mb\u001b[39m\u001b[38;5;124m\"\u001b[39m)\u001b[38;5;241m.\u001b[39mupper()\u001b[38;5;241m+\u001b[39m\u001b[38;5;124m\"\u001b[39m\u001b[38;5;124m/cm\u001b[39m\u001b[38;5;124m\"\u001b[39m\u001b[38;5;241m+\u001b[39mi\u001b[38;5;241m.\u001b[39mstrftime(\u001b[38;5;124m\"\u001b[39m\u001b[38;5;132;01m%d\u001b[39;00m\u001b[38;5;124m%\u001b[39m\u001b[38;5;124mb\u001b[39m\u001b[38;5;124m%\u001b[39m\u001b[38;5;124mY\u001b[39m\u001b[38;5;124m\"\u001b[39m)\u001b[38;5;241m.\u001b[39mupper()\u001b[38;5;241m+\u001b[39m\u001b[38;5;124m\"\u001b[39m\u001b[38;5;124mbhav.csv.zip\u001b[39m\u001b[38;5;124m\"\u001b[39m\n\u001b[1;32m---> 12\u001b[0m     response \u001b[38;5;241m=\u001b[39m \u001b[43mrequests\u001b[49m\u001b[38;5;241;43m.\u001b[39;49m\u001b[43mget\u001b[49m\u001b[43m(\u001b[49m\u001b[43mnewurl\u001b[49m\u001b[43m)\u001b[49m\n\u001b[0;32m     13\u001b[0m     \u001b[38;5;28mprint\u001b[39m(newurl)\n\u001b[0;32m     14\u001b[0m     \u001b[38;5;28;01mif\u001b[39;00m response\u001b[38;5;241m.\u001b[39mstatus_code \u001b[38;5;241m!=\u001b[39m \u001b[38;5;241m200\u001b[39m:\n",
      "File \u001b[1;32m~\\Anaconda3\\lib\\site-packages\\requests\\api.py:75\u001b[0m, in \u001b[0;36mget\u001b[1;34m(url, params, **kwargs)\u001b[0m\n\u001b[0;32m     64\u001b[0m \u001b[38;5;28;01mdef\u001b[39;00m \u001b[38;5;21mget\u001b[39m(url, params\u001b[38;5;241m=\u001b[39m\u001b[38;5;28;01mNone\u001b[39;00m, \u001b[38;5;241m*\u001b[39m\u001b[38;5;241m*\u001b[39mkwargs):\n\u001b[0;32m     65\u001b[0m     \u001b[38;5;124mr\u001b[39m\u001b[38;5;124;03m\"\"\"Sends a GET request.\u001b[39;00m\n\u001b[0;32m     66\u001b[0m \n\u001b[0;32m     67\u001b[0m \u001b[38;5;124;03m    :param url: URL for the new :class:`Request` object.\u001b[39;00m\n\u001b[1;32m   (...)\u001b[0m\n\u001b[0;32m     72\u001b[0m \u001b[38;5;124;03m    :rtype: requests.Response\u001b[39;00m\n\u001b[0;32m     73\u001b[0m \u001b[38;5;124;03m    \"\"\"\u001b[39;00m\n\u001b[1;32m---> 75\u001b[0m     \u001b[38;5;28;01mreturn\u001b[39;00m request(\u001b[38;5;124m'\u001b[39m\u001b[38;5;124mget\u001b[39m\u001b[38;5;124m'\u001b[39m, url, params\u001b[38;5;241m=\u001b[39mparams, \u001b[38;5;241m*\u001b[39m\u001b[38;5;241m*\u001b[39mkwargs)\n",
      "File \u001b[1;32m~\\Anaconda3\\lib\\site-packages\\requests\\api.py:61\u001b[0m, in \u001b[0;36mrequest\u001b[1;34m(method, url, **kwargs)\u001b[0m\n\u001b[0;32m     57\u001b[0m \u001b[38;5;66;03m# By using the 'with' statement we are sure the session is closed, thus we\u001b[39;00m\n\u001b[0;32m     58\u001b[0m \u001b[38;5;66;03m# avoid leaving sockets open which can trigger a ResourceWarning in some\u001b[39;00m\n\u001b[0;32m     59\u001b[0m \u001b[38;5;66;03m# cases, and look like a memory leak in others.\u001b[39;00m\n\u001b[0;32m     60\u001b[0m \u001b[38;5;28;01mwith\u001b[39;00m sessions\u001b[38;5;241m.\u001b[39mSession() \u001b[38;5;28;01mas\u001b[39;00m session:\n\u001b[1;32m---> 61\u001b[0m     \u001b[38;5;28;01mreturn\u001b[39;00m session\u001b[38;5;241m.\u001b[39mrequest(method\u001b[38;5;241m=\u001b[39mmethod, url\u001b[38;5;241m=\u001b[39murl, \u001b[38;5;241m*\u001b[39m\u001b[38;5;241m*\u001b[39mkwargs)\n",
      "File \u001b[1;32m~\\Anaconda3\\lib\\site-packages\\requests\\sessions.py:529\u001b[0m, in \u001b[0;36mSession.request\u001b[1;34m(self, method, url, params, data, headers, cookies, files, auth, timeout, allow_redirects, proxies, hooks, stream, verify, cert, json)\u001b[0m\n\u001b[0;32m    524\u001b[0m send_kwargs \u001b[38;5;241m=\u001b[39m {\n\u001b[0;32m    525\u001b[0m     \u001b[38;5;124m'\u001b[39m\u001b[38;5;124mtimeout\u001b[39m\u001b[38;5;124m'\u001b[39m: timeout,\n\u001b[0;32m    526\u001b[0m     \u001b[38;5;124m'\u001b[39m\u001b[38;5;124mallow_redirects\u001b[39m\u001b[38;5;124m'\u001b[39m: allow_redirects,\n\u001b[0;32m    527\u001b[0m }\n\u001b[0;32m    528\u001b[0m send_kwargs\u001b[38;5;241m.\u001b[39mupdate(settings)\n\u001b[1;32m--> 529\u001b[0m resp \u001b[38;5;241m=\u001b[39m \u001b[38;5;28mself\u001b[39m\u001b[38;5;241m.\u001b[39msend(prep, \u001b[38;5;241m*\u001b[39m\u001b[38;5;241m*\u001b[39msend_kwargs)\n\u001b[0;32m    531\u001b[0m \u001b[38;5;28;01mreturn\u001b[39;00m resp\n",
      "File \u001b[1;32m~\\Anaconda3\\lib\\site-packages\\requests\\sessions.py:645\u001b[0m, in \u001b[0;36mSession.send\u001b[1;34m(self, request, **kwargs)\u001b[0m\n\u001b[0;32m    642\u001b[0m start \u001b[38;5;241m=\u001b[39m preferred_clock()\n\u001b[0;32m    644\u001b[0m \u001b[38;5;66;03m# Send the request\u001b[39;00m\n\u001b[1;32m--> 645\u001b[0m r \u001b[38;5;241m=\u001b[39m adapter\u001b[38;5;241m.\u001b[39msend(request, \u001b[38;5;241m*\u001b[39m\u001b[38;5;241m*\u001b[39mkwargs)\n\u001b[0;32m    647\u001b[0m \u001b[38;5;66;03m# Total elapsed time of the request (approximately)\u001b[39;00m\n\u001b[0;32m    648\u001b[0m elapsed \u001b[38;5;241m=\u001b[39m preferred_clock() \u001b[38;5;241m-\u001b[39m start\n",
      "File \u001b[1;32m~\\Anaconda3\\lib\\site-packages\\requests\\adapters.py:519\u001b[0m, in \u001b[0;36mHTTPAdapter.send\u001b[1;34m(self, request, stream, timeout, verify, cert, proxies)\u001b[0m\n\u001b[0;32m    515\u001b[0m     \u001b[38;5;28;01mif\u001b[39;00m \u001b[38;5;28misinstance\u001b[39m(e\u001b[38;5;241m.\u001b[39mreason, _SSLError):\n\u001b[0;32m    516\u001b[0m         \u001b[38;5;66;03m# This branch is for urllib3 v1.22 and later.\u001b[39;00m\n\u001b[0;32m    517\u001b[0m         \u001b[38;5;28;01mraise\u001b[39;00m SSLError(e, request\u001b[38;5;241m=\u001b[39mrequest)\n\u001b[1;32m--> 519\u001b[0m     \u001b[38;5;28;01mraise\u001b[39;00m \u001b[38;5;167;01mConnectionError\u001b[39;00m(e, request\u001b[38;5;241m=\u001b[39mrequest)\n\u001b[0;32m    521\u001b[0m \u001b[38;5;28;01mexcept\u001b[39;00m ClosedPoolError \u001b[38;5;28;01mas\u001b[39;00m e:\n\u001b[0;32m    522\u001b[0m     \u001b[38;5;28;01mraise\u001b[39;00m \u001b[38;5;167;01mConnectionError\u001b[39;00m(e, request\u001b[38;5;241m=\u001b[39mrequest)\n",
      "\u001b[1;31mConnectionError\u001b[0m: HTTPSConnectionPool(host='www1.nseindia.com', port=443): Max retries exceeded with url: /content/historical/EQUITIES/2021/JAN/cm22JAN2021bhav.csv.zip (Caused by NewConnectionError('<urllib3.connection.HTTPSConnection object at 0x000002E6A1627550>: Failed to establish a new connection: [WinError 10060] A connection attempt failed because the connected party did not properly respond after a period of time, or established connection failed because connected host has failed to respond'))"
     ]
    }
   ],
   "source": [
    "download_csv_file(start_date,end_date)"
   ]
  },
  {
   "cell_type": "code",
   "execution_count": null,
   "id": "367e0761",
   "metadata": {},
   "outputs": [],
   "source": [
    "k=merge_csv_file(stock_symbol,start_date,end_date)\n",
    "print(k)"
   ]
  },
  {
   "cell_type": "code",
   "execution_count": null,
   "id": "3bfdb1c6",
   "metadata": {},
   "outputs": [],
   "source": []
  }
 ],
 "metadata": {
  "kernelspec": {
   "display_name": "Python 3 (ipykernel)",
   "language": "python",
   "name": "python3"
  },
  "language_info": {
   "codemirror_mode": {
    "name": "ipython",
    "version": 3
   },
   "file_extension": ".py",
   "mimetype": "text/x-python",
   "name": "python",
   "nbconvert_exporter": "python",
   "pygments_lexer": "ipython3",
   "version": "3.9.12"
  },
  "vscode": {
   "interpreter": {
    "hash": "392e8b6846de551d3db54157075409361a2f897194d34769e3402699225d07e3"
   }
  }
 },
 "nbformat": 4,
 "nbformat_minor": 5
}
